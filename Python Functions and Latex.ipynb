{
 "cells": [
  {
   "cell_type": "code",
   "execution_count": 1,
   "id": "12257187",
   "metadata": {},
   "outputs": [
    {
     "name": "stdout",
     "output_type": "stream",
     "text": [
      "c =  205.2\n"
     ]
    }
   ],
   "source": [
    "import numpy as np\n",
    "\n",
    "def fred(a,b):\n",
    "    c = (a+b)*12\n",
    "    return c\n",
    "a = 13.2\n",
    "b = 3.9\n",
    "\n",
    "c = fred(a,b)\n",
    "\n",
    "print(\"c = \",c)"
   ]
  },
  {
   "cell_type": "code",
   "execution_count": 4,
   "id": "574b94b9",
   "metadata": {},
   "outputs": [
    {
     "name": "stdout",
     "output_type": "stream",
     "text": [
      "0.022360679774997897\n"
     ]
    }
   ],
   "source": [
    "def rule3(dA,dB):\n",
    "    dQ = np.sqrt(dA**2+dB**2)\n",
    "    return dQ\n",
    "\n",
    "dx1 = 0.01\n",
    "dx2 = 0.02\n",
    "\n",
    "dx = rule3(dx1,dx2)\n",
    "print (dx)"
   ]
  },
  {
   "cell_type": "code",
   "execution_count": 6,
   "id": "52ef7d92",
   "metadata": {},
   "outputs": [
    {
     "name": "stdout",
     "output_type": "stream",
     "text": [
      "[ 3  6 36] [   9   36 1296]\n",
      "5.0 2.8674417556808756\n"
     ]
    }
   ],
   "source": [
    "x = np.array([1,2,12])\n",
    "\n",
    "y = x*3\n",
    "ysq = y**2\n",
    "print (y,ysq)\n",
    "\n",
    "avg_x = np.average(x)\n",
    "err_x = np.std(x)/np.sqrt(3)\n",
    "print (avg_x,err_x)"
   ]
  },
  {
   "cell_type": "markdown",
   "id": "63e3b1b0",
   "metadata": {},
   "source": [
    "This is my super fun notebook"
   ]
  },
  {
   "cell_type": "markdown",
   "id": "a6863b39",
   "metadata": {},
   "source": [
    "# Big Text"
   ]
  },
  {
   "cell_type": "markdown",
   "id": "cf1b7d27",
   "metadata": {},
   "source": [
    "## Bigger Text"
   ]
  },
  {
   "cell_type": "markdown",
   "id": "1ce4527c",
   "metadata": {},
   "source": [
    "F=g * uncertainty in m"
   ]
  },
  {
   "cell_type": "markdown",
   "id": "75ac87e5",
   "metadata": {},
   "source": [
    "$F=g\\delta m $"
   ]
  },
  {
   "cell_type": "markdown",
   "id": "d270988a",
   "metadata": {},
   "source": [
    "$Q = \\sqrt{(\\delta A)^2 + (\\delta B)^2} $"
   ]
  },
  {
   "cell_type": "markdown",
   "id": "6d4615b8",
   "metadata": {},
   "source": [
    "$W = \\frac{32x}{2} $"
   ]
  }
 ],
 "metadata": {
  "kernelspec": {
   "display_name": "Python 3 (ipykernel)",
   "language": "python",
   "name": "python3"
  },
  "language_info": {
   "codemirror_mode": {
    "name": "ipython",
    "version": 3
   },
   "file_extension": ".py",
   "mimetype": "text/x-python",
   "name": "python",
   "nbconvert_exporter": "python",
   "pygments_lexer": "ipython3",
   "version": "3.9.12"
  }
 },
 "nbformat": 4,
 "nbformat_minor": 5
}
